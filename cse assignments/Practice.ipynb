{
 "cells": [
  {
   "cell_type": "code",
   "execution_count": 43,
   "id": "5d25a44f",
   "metadata": {
    "scrolled": true
   },
   "outputs": [
    {
     "name": "stdout",
     "output_type": "stream",
     "text": [
      "0 0 0 0 0 0 0 \n",
      "0 0 0 9 0 6 0 \n",
      "0 0 0 0 0 0 0 \n",
      "0 0 0 0 7 0 0 \n",
      "0 0 0 0 0 0 1 \n",
      "0 0 0 0 0 0 8 \n",
      "0 6 0 5 0 0 0 \n",
      "\n"
     ]
    }
   ],
   "source": [
    "inp1 = open('/Users/mouly/Downloads/input1a_2.txt', 'r')\n",
    "out1 = open('/Users/mouly/Downloads/output1a_1.txt', 'w')\n",
    "line1 = inp1.readline().split()\n",
    "vrtx = int(line1[0])\n",
    "edge = int(line1[1])\n",
    "#we need to build nested list\n",
    "lst1 = [0]*(vrtx+1)\n",
    "lst2 = [0]*(vrtx+1)\n",
    "for i in range(len(lst2)):\n",
    "    lst2[i] = lst1.copy() #we are making lst2 a nested list by running it upto the length\n",
    "for p in range(edge):\n",
    "    val = inp1.readline().split()\n",
    "    lst2[int(val[0])][int(val[1])] = int(val[2])\n",
    "\n",
    "s_print = ''\n",
    "for m in lst2:\n",
    "    for n in m:\n",
    "        s_print += str(n) + ' '\n",
    "    s_print += '\\n'\n",
    "print(s_print)\n",
    "       "
   ]
  },
  {
   "cell_type": "code",
   "execution_count": 94,
   "id": "eb36d9bf",
   "metadata": {},
   "outputs": [
    {
     "name": "stdout",
     "output_type": "stream",
     "text": [
      "0: \n",
      "1:[(5, 6), (3, 9)]\n",
      "2: \n",
      "3:[(4, 7)]\n",
      "4:[(6, 1)]\n",
      "5:[(6, 8)]\n",
      "6:[(3, 5), (1, 6)]\n"
     ]
    }
   ],
   "source": [
    "inp2 = open('/Users/mouly/Downloads/input1b_2.txt', 'r')\n",
    "out2 = open('/Users/mouly/Downloads/output1a_1.txt', 'w')\n",
    "lne1 = inp2.readline().split()\n",
    "vrtx = int(lne1[0])\n",
    "pair_no = int(lne1[1])\n",
    "\n",
    "dct = {}\n",
    "\n",
    "\n",
    "for i in range(vrtx+1):\n",
    "    dct[i] = None\n",
    "\n",
    "for m in range(pair_no):\n",
    "    \n",
    "    val = inp2.readline().split()\n",
    "   \n",
    "    \n",
    "    \n",
    "    if dct[int(val[0])] == None:\n",
    "        dct[int(val[0])] = [(int(val[1]), int(val[2]))]\n",
    "    else:\n",
    "        dct[int(val[0])].append((int(val[1]), int(val[2])))\n",
    "                          \n",
    "\n",
    "for p, q in dct.items():\n",
    "    if q == None:\n",
    "        q = ' '\n",
    "    print(f'{p}:{q}')  "
   ]
  },
  {
   "cell_type": "code",
   "execution_count": 178,
   "id": "ee487349",
   "metadata": {},
   "outputs": [
    {
     "name": "stdout",
     "output_type": "stream",
     "text": [
      "[1, 3, 4, 2]\n",
      "{1: 1, 3: 1, 2: [], 4: []}\n"
     ]
    }
   ],
   "source": [
    "inp3 = open('/Users/mouly/Downloads/input2_1.txt', 'r')\n",
    "class BFS:\n",
    "    def __init__(self):\n",
    "        self.graph = {}\n",
    "        \n",
    "        \n",
    "    def bfs_construct(self, val1, val2):\n",
    "        if val1 not in self.graph:\n",
    "            self.graph[val1] = []\n",
    "        if val2 not in self.graph:\n",
    "            self.graph[val2] = []\n",
    "        self.graph[val1].append(val2)\n",
    "      \n",
    "        \n",
    "    def bfs_travs(self, start):\n",
    "        lst = []\n",
    "        lst.append(start)\n",
    "        used = []\n",
    "        while len(lst) != 0:\n",
    "            v = lst.pop(0)\n",
    "            #important part\n",
    "            if v in self.graph.keys():\n",
    "                if v not in used:\n",
    "                    used.append(v)\n",
    "                    for elm in self.graph[v]:\n",
    "                        lst.append(elm)\n",
    "        print(used)\n",
    "\n",
    "    \n",
    "a = BFS()\n",
    "line1 = inp3.readline().split()\n",
    "for m in range(int(line1[1])):\n",
    "    lines = inp3.readline().split()\n",
    "    a.bfs_construct(int(lines[0]), int(lines[1]))\n",
    "for m in a.graph.keys():\n",
    "    a.bfs_travs(m)\n",
    "    break\n",
    "print(a.graph)\n"
   ]
  },
  {
   "cell_type": "code",
   "execution_count": 175,
   "id": "de4eec48",
   "metadata": {},
   "outputs": [
    {
     "ename": "FileNotFoundError",
     "evalue": "[Errno 2] No such file or directory: '/Users/mouly/Downloads/input2_4.txt'",
     "output_type": "error",
     "traceback": [
      "\u001b[0;31m---------------------------------------------------------------------------\u001b[0m",
      "\u001b[0;31mFileNotFoundError\u001b[0m                         Traceback (most recent call last)",
      "\u001b[0;32m<ipython-input-175-7b6278fdbf59>\u001b[0m in \u001b[0;36m<module>\u001b[0;34m\u001b[0m\n\u001b[1;32m      1\u001b[0m \u001b[0;31m#dfs\u001b[0m\u001b[0;34m\u001b[0m\u001b[0;34m\u001b[0m\u001b[0;34m\u001b[0m\u001b[0m\n\u001b[0;32m----> 2\u001b[0;31m \u001b[0minp4\u001b[0m \u001b[0;34m=\u001b[0m \u001b[0mopen\u001b[0m\u001b[0;34m(\u001b[0m\u001b[0;34m'/Users/mouly/Downloads/input2_4.txt'\u001b[0m\u001b[0;34m,\u001b[0m \u001b[0;34m'r'\u001b[0m\u001b[0;34m)\u001b[0m\u001b[0;34m\u001b[0m\u001b[0;34m\u001b[0m\u001b[0m\n\u001b[0m\u001b[1;32m      3\u001b[0m \u001b[0;32mclass\u001b[0m \u001b[0mDFS\u001b[0m\u001b[0;34m:\u001b[0m\u001b[0;34m\u001b[0m\u001b[0;34m\u001b[0m\u001b[0m\n\u001b[1;32m      4\u001b[0m     \u001b[0;32mdef\u001b[0m \u001b[0m__init__\u001b[0m\u001b[0;34m(\u001b[0m\u001b[0mself\u001b[0m\u001b[0;34m)\u001b[0m\u001b[0;34m:\u001b[0m\u001b[0;34m\u001b[0m\u001b[0;34m\u001b[0m\u001b[0m\n\u001b[1;32m      5\u001b[0m         \u001b[0mself\u001b[0m\u001b[0;34m.\u001b[0m\u001b[0mgraph\u001b[0m \u001b[0;34m=\u001b[0m \u001b[0;34m{\u001b[0m\u001b[0;34m}\u001b[0m\u001b[0;34m\u001b[0m\u001b[0;34m\u001b[0m\u001b[0m\n",
      "\u001b[0;31mFileNotFoundError\u001b[0m: [Errno 2] No such file or directory: '/Users/mouly/Downloads/input2_4.txt'"
     ]
    }
   ],
   "source": [
    "#dfs\n",
    "inp4 = open('/Users/mouly/Downloads/input2_4.txt', 'r')\n",
    "class DFS:\n",
    "    def __init__(self):\n",
    "        self.graph = {}\n",
    "        self.lst = []\n",
    "        \n",
    "    def dfs_construct(self, val1, val2):\n",
    "        if val1 not in self.graph:\n",
    "            self.graph[val1] = []\n",
    "        if val2 not in self.graph:\n",
    "            self.graph[val2] = []\n",
    "        self.graph[val1].append(val2)\n",
    "        self.graph[val2].append(val1)\n",
    "    \n",
    "    def dfs_travs(self, start):\n",
    "        self.lst.append(start)\n",
    "        for s in self.graph[start]:\n",
    "            if s not in self.lst:\n",
    "                self.dfs_travs(s)  \n",
    "    \n",
    "a = DFS()\n",
    "line1 = inp4.readline().split()\n",
    "for m in range(int(line1[1])):\n",
    "    lines = inp4.readline().split()\n",
    "    a.dfs_construct(int(lines[0]), int(lines[1]))\n",
    "for n in a.graph.keys():\n",
    "    a.dfs_travs(n)\n",
    "    break\n",
    "print(a.lst)"
   ]
  },
  {
   "cell_type": "code",
   "execution_count": 11,
   "id": "404308db",
   "metadata": {},
   "outputs": [
    {
     "ename": "FileNotFoundError",
     "evalue": "[Errno 2] No such file or directory: '/Users/mouly/Downloads/input4_3.txt'",
     "output_type": "error",
     "traceback": [
      "\u001b[0;31m---------------------------------------------------------------------------\u001b[0m",
      "\u001b[0;31mFileNotFoundError\u001b[0m                         Traceback (most recent call last)",
      "\u001b[0;32m<ipython-input-11-f015de293723>\u001b[0m in \u001b[0;36m<module>\u001b[0;34m\u001b[0m\n\u001b[1;32m      1\u001b[0m \u001b[0;31m#cycle\u001b[0m\u001b[0;34m\u001b[0m\u001b[0;34m\u001b[0m\u001b[0;34m\u001b[0m\u001b[0m\n\u001b[0;32m----> 2\u001b[0;31m \u001b[0minp5\u001b[0m \u001b[0;34m=\u001b[0m \u001b[0mopen\u001b[0m\u001b[0;34m(\u001b[0m\u001b[0;34m'/Users/mouly/Downloads/input4_3.txt'\u001b[0m\u001b[0;34m,\u001b[0m \u001b[0;34m'r'\u001b[0m\u001b[0;34m)\u001b[0m\u001b[0;34m\u001b[0m\u001b[0;34m\u001b[0m\u001b[0m\n\u001b[0m\u001b[1;32m      3\u001b[0m \u001b[0;32mclass\u001b[0m \u001b[0mcycle_finding\u001b[0m\u001b[0;34m:\u001b[0m\u001b[0;34m\u001b[0m\u001b[0;34m\u001b[0m\u001b[0m\n\u001b[1;32m      4\u001b[0m     \u001b[0;32mdef\u001b[0m \u001b[0m__init__\u001b[0m\u001b[0;34m(\u001b[0m\u001b[0mself\u001b[0m\u001b[0;34m)\u001b[0m\u001b[0;34m:\u001b[0m\u001b[0;34m\u001b[0m\u001b[0;34m\u001b[0m\u001b[0m\n\u001b[1;32m      5\u001b[0m         \u001b[0mself\u001b[0m\u001b[0;34m.\u001b[0m\u001b[0mgraph\u001b[0m \u001b[0;34m=\u001b[0m \u001b[0;34m{\u001b[0m\u001b[0;34m}\u001b[0m\u001b[0;34m\u001b[0m\u001b[0;34m\u001b[0m\u001b[0m\n",
      "\u001b[0;31mFileNotFoundError\u001b[0m: [Errno 2] No such file or directory: '/Users/mouly/Downloads/input4_3.txt'"
     ]
    }
   ],
   "source": [
    "#cycle\n",
    "inp5 = open('/Users/mouly/Downloads/input4_3.txt', 'r')\n",
    "class cycle_finding:\n",
    "    def __init__(self):\n",
    "        self.graph = {}\n",
    "        self.lst = []\n",
    "        \n",
    "    def dfs_construct(self, val1, val2):\n",
    "        if val1 not in self.graph:\n",
    "            self.graph[val1] = []\n",
    "        if val2 not in self.graph:\n",
    "            self.graph[val2] = []\n",
    "        self.graph[val1].append(val2)\n",
    "      \n",
    "    \n",
    "    def dfs_travs(self, start):\n",
    "        self.lst.append(start)\n",
    "        for s in self.graph[start]:\n",
    "            if s not in self.lst:\n",
    "                self.dfs_travs(s)  \n",
    "    \n",
    "a = cycle_finding()\n",
    "line1 = inp5.readline().split()\n",
    "\n",
    "for m in range(int(line1[1])):\n",
    "    lines = inp5.readline().split()\n",
    "    a.dfs_construct(int(lines[0]), int(lines[1]))\n",
    "for n in a.graph.keys():\n",
    "    a.dfs_travs(n)\n",
    "    break\n",
    "print(a.graph)\n",
    "#will finish later\n",
    "\n"
   ]
  },
  {
   "cell_type": "code",
   "execution_count": 2,
   "id": "3fc95ed6",
   "metadata": {},
   "outputs": [],
   "source": [
    "#shortest path\n",
    "inp11 = open('/Users/mouly/Downloads/input5_2.txt', 'r')\n",
    "class shortest_path:\n",
    "    def __init__(self):\n",
    "        self.graph = {}\n",
    "        self.par = {}\n",
    "        self.flag = False\n",
    "        \n",
    "    def bfs_formation(self, val1, val2):\n",
    "        if val1 not in self.graph:\n",
    "            self.graph[val1] = []\n",
    "        if val2 not in self.graph:\n",
    "            self.graph[val2] = []\n",
    "        self.graph[val1].append(val2)\n",
    "        self.graph[val2].append(val1)\n",
    "        \n",
    "        \n",
    "        \n",
    "    def bfs_travs(self, start, des):\n",
    "        \n",
    "        lst = []\n",
    "        lst.append(start)\n",
    "        used = []\n",
    "        self.par[start] = None\n",
    "        while len(lst) != 0:\n",
    "            if self.flag:\n",
    "                break\n",
    "            v = lst.pop(0)\n",
    "            #important part\n",
    "            if v in self.graph.keys():\n",
    "                if v not in used:\n",
    "                    used.append(v)\n",
    "                    for elm in self.graph[v]:\n",
    "                        self.par[elm] = v\n",
    "                        lst.append(elm)\n",
    "                        if elm == des:\n",
    "                            self.flag = True\n",
    "                            break\n",
    "                            \n",
    "       \n",
    "        return self.par\n",
    "        \n",
    "         \n",
    "        \n",
    "        \n",
    "        \n",
    "    \n",
    "\n",
    "line = inp11.readline().split()\n",
    "a = shortest_path()\n",
    "des = int(line[2])\n",
    "for m in range(int(line[1])):\n",
    "    lines = inp11.readline().split()\n",
    "    a.bfs_formation(int(lines[0]), int(lines[1]))\n",
    "for n in a.graph.keys():\n",
    "    if n == 1:\n",
    "        save = a.bfs_travs(n, des)\n",
    "        \n",
    "# while des != None:\n",
    "#     print(des)\n",
    "#     des = save[des]\n",
    "    \n",
    "\n",
    "    \n",
    "    "
   ]
  },
  {
   "cell_type": "code",
   "execution_count": 184,
   "id": "63fbd6dc",
   "metadata": {},
   "outputs": [
    {
     "name": "stdout",
     "output_type": "stream",
     "text": [
      "{1: [3, 4], 3: [1, 2], 2: [3], 4: [1]}\n",
      "[1, 3, 4, 2]\n"
     ]
    }
   ],
   "source": [
    "inp3 = open('/Users/mouly/Downloads/input2_1.txt', 'r')\n",
    "class BFS:\n",
    "    def __init__(self):\n",
    "        self.graph = {}\n",
    "        \n",
    "    def bfs_construct(self, val1, val2):\n",
    "        if val1 not in self.graph:\n",
    "            self.graph[val1] = []\n",
    "        if val2 not in self.graph:\n",
    "            self.graph[val2] = []\n",
    "        self.graph[val1].append(val2)\n",
    "        self.graph[val2].append(val1)\n",
    "      \n",
    "        \n",
    "    def bfs_travs(self, start):\n",
    "        lst = []\n",
    "        lst.append(start)\n",
    "        used = []\n",
    "        while len(lst) != 0:\n",
    "            v = lst.pop(0)\n",
    "            if v in self.graph.keys():\n",
    "                if v not in used:\n",
    "                    used.append(v)\n",
    "                    for elm in self.graph[v]:\n",
    "                        lst.append(elm)\n",
    "    \n",
    "        print(used)\n",
    "\n",
    "    \n",
    "a = BFS()\n",
    "line1 = inp3.readline().split()\n",
    "for m in range(int(line1[1])):\n",
    "    lines = inp3.readline().split()\n",
    "    a.bfs_construct(int(lines[0]), int(lines[1]))\n",
    "print(a.graph)\n",
    "for m in a.graph.keys():\n",
    "    a.bfs_travs(m)\n",
    "    break\n",
    "\n"
   ]
  },
  {
   "cell_type": "code",
   "execution_count": null,
   "id": "aeaec01d",
   "metadata": {},
   "outputs": [],
   "source": [
    "#Assignment 7"
   ]
  },
  {
   "cell_type": "code",
   "execution_count": 6,
   "id": "c4df890c",
   "metadata": {},
   "outputs": [
    {
     "name": "stdout",
     "output_type": "stream",
     "text": [
      "5\n"
     ]
    }
   ],
   "source": [
    "from queue import PriorityQueue\n",
    "inp121 = open('/Users/mouly/Downloads/input1_3.txt', 'r')\n",
    "line1 = inp121.readline()\n",
    "\n",
    "lst = []\n",
    "for m in range(int(line1)):\n",
    "    v = inp121.readline().split()\n",
    "    lst.append((int(v[1]), int(v[0])))\n",
    "#print(lst)\n",
    "que = PriorityQueue()\n",
    "\n",
    "for i in range(len(lst)):\n",
    "    que.put(lst[i])\n",
    "\n",
    "f_elm = que.get()\n",
    "#print(f_elm)\n",
    "\n",
    "counter = 1\n",
    "for val in range(len(lst)-1):\n",
    "    elm = que.get()\n",
    "    if elm[1] >= f_elm[0]:\n",
    "        counter += 1\n",
    "        f_elm = elm\n",
    "        \n",
    "print(counter)\n",
    "    \n",
    "    \n"
   ]
  },
  {
   "cell_type": "code",
   "execution_count": null,
   "id": "879ff7b8",
   "metadata": {},
   "outputs": [],
   "source": [
    "from queue import PriorityQueue\n",
    "inp121 = open('/Users/mouly/Downloads/input1_1.txt', 'r')\n",
    "out121 = open('/Users/mouly/Downloads/output1_1.txt', 'w')\n",
    "\n",
    "total = inp121.readline()\n",
    "store = []\n",
    "for i in range(int(total)):\n",
    "    v = inp121.readline()\n",
    "    val = v.split()\n",
    "    #print(val)\n",
    "    store.append((int(val[1]), int(val[0])))\n",
    "#print(store)\n",
    "\n",
    "que = PriorityQueue()\n",
    "for m in range(len(store)):\n",
    "    que.put(store[m])\n",
    "\n",
    "f_elm = que.get()\n",
    "\n",
    "counter = 1\n",
    "st = ''+ str(f_elm[1]) +' '+ str(f_elm[0])+ '\\n'\n",
    "for n in range(len(store)-1):\n",
    "    elm = que.get()\n",
    "    #print(elm)\n",
    "    if elm[1] >= f_elm[0]:\n",
    "        counter += 1\n",
    "        f_elm = elm\n",
    "        st += f'{f_elm[1]} {f_elm[0]}\\n'\n",
    "\n",
    "print(counter)\n",
    "print(st)"
   ]
  },
  {
   "cell_type": "code",
   "execution_count": 10,
   "id": "8b73b100",
   "metadata": {},
   "outputs": [
    {
     "name": "stdout",
     "output_type": "stream",
     "text": [
      "[(4, 0), (4, 3), (5, 1), (10, 9), (9, 6), (3, 2), (2, 1)]\n"
     ]
    }
   ],
   "source": [
    "from queue import PriorityQueue\n",
    "inp32 = open('/Users/mouly/Downloads/input1_3.txt', 'r')\n",
    "line1 = inp32.readline()\n",
    "lst = []\n",
    "for m in range(int(line1)):\n",
    "    val = inp32.readline().split()\n",
    "    lst.append((int(val[1]), int(val[0])))\n",
    "print(lst)"
   ]
  },
  {
   "cell_type": "code",
   "execution_count": null,
   "id": "b5991f1e",
   "metadata": {},
   "outputs": [],
   "source": []
  },
  {
   "cell_type": "code",
   "execution_count": null,
   "id": "b71cd458",
   "metadata": {},
   "outputs": [],
   "source": []
  },
  {
   "cell_type": "code",
   "execution_count": null,
   "id": "3888dce9",
   "metadata": {},
   "outputs": [],
   "source": []
  },
  {
   "cell_type": "code",
   "execution_count": null,
   "id": "26516305",
   "metadata": {},
   "outputs": [],
   "source": []
  },
  {
   "cell_type": "code",
   "execution_count": null,
   "id": "f8b93d5d",
   "metadata": {},
   "outputs": [],
   "source": []
  },
  {
   "cell_type": "code",
   "execution_count": null,
   "id": "45c101c5",
   "metadata": {},
   "outputs": [],
   "source": []
  },
  {
   "cell_type": "code",
   "execution_count": null,
   "id": "fd62a79b",
   "metadata": {},
   "outputs": [],
   "source": []
  },
  {
   "cell_type": "code",
   "execution_count": null,
   "id": "f055518c",
   "metadata": {},
   "outputs": [],
   "source": []
  }
 ],
 "metadata": {
  "kernelspec": {
   "display_name": "Python 3",
   "language": "python",
   "name": "python3"
  },
  "language_info": {
   "codemirror_mode": {
    "name": "ipython",
    "version": 3
   },
   "file_extension": ".py",
   "mimetype": "text/x-python",
   "name": "python",
   "nbconvert_exporter": "python",
   "pygments_lexer": "ipython3",
   "version": "3.8.8"
  }
 },
 "nbformat": 4,
 "nbformat_minor": 5
}
