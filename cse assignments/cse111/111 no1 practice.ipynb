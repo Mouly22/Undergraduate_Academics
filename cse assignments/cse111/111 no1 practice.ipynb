{
 "cells": [
  {
   "cell_type": "raw",
   "id": "15117d00",
   "metadata": {},
   "source": [
    "Write a Python program that takes multiple words as input from the user and calculates the frequency of each word.\n",
    "    \n",
    "Finally, print all the words (sorted in ascending order) grouped by frequency (sorted in descending order).\n",
    "\n",
    " [You can not use built in .count() function]\n",
    "\n",
    " Sample Input #1:\n",
    "\n",
    " cow cat cow ant elephant cow dog lion cat goat cow lion tiger elephant\n",
    "\n",
    " Sample Output #2:\n",
    "\n",
    " {\n",
    " 4 : ['cow'],\n",
    " 2 : ['cat', 'elephant', 'lion'],\n",
    " 1 : ['ant', 'dog', 'goat', 'tiger']\n",
    " }\n",
    "\n",
    " Sample Input #2:\n",
    " cat dog lion cat elephant goat cow lion ant tiger elephant cow cow cow\n",
    "\n",
    " Sample Output #2:\n",
    " {\n",
    " 4 : ['cow'],\n",
    " 2 : ['cat', 'elephant', 'lion'],\n",
    " 1 : ['ant', 'dog', 'goat', 'tiger']\n",
    " }"
   ]
  },
  {
   "cell_type": "code",
   "execution_count": 45,
   "id": "d244dee5",
   "metadata": {},
   "outputs": [
    {
     "name": "stdout",
     "output_type": "stream",
     "text": [
      "{4: ['cow'], 2: ['cat', 'elephant', 'lion'], 1: ['ant', 'dog', 'goat', 'tiger']}\n"
     ]
    }
   ],
   "source": [
    "y = 'cow', 'cat', 'cow', 'ant', 'elephant', 'cow', 'dog', 'lion', 'cat', 'goat', 'cow', 'lion', 'tiger', 'elephant'\n",
    "lst = []\n",
    "dct = {}\n",
    "for i in range(len(y)):\n",
    "    lst.append(y[i])\n",
    "    \n",
    "for j in lst:\n",
    "    val = lst.count(j)\n",
    "    if val not in dct.keys():\n",
    "        dct[val] = [j]\n",
    "    else:\n",
    "        if j in dct[val]:\n",
    "            pass\n",
    "        else:\n",
    "            dct[val].append(j)\n",
    "\n",
    "print(dct)           "
   ]
  },
  {
   "cell_type": "code",
   "execution_count": null,
   "id": "11724e96",
   "metadata": {},
   "outputs": [],
   "source": [
    "y = 'cow' 'cat' 'cow' 'ant' 'elephant' 'cow' 'dog' 'lion' 'cat' 'goat' 'cow' 'lion', 'tiger', 'elephant'\n",
    "\n"
   ]
  },
  {
   "cell_type": "code",
   "execution_count": 39,
   "id": "8d2ef054",
   "metadata": {},
   "outputs": [
    {
     "name": "stdout",
     "output_type": "stream",
     "text": [
      "{4: ['cow'], 2: ['cat', 'elephant', 'lion'], 1: ['ant', 'dog', 'goat', 'tiger']}\n"
     ]
    }
   ],
   "source": [
    "y = 'cow', 'cat', 'cow', 'ant', 'elephant', 'cow', 'dog', 'lion', 'cat', 'goat', 'cow', 'lion', 'tiger', 'elephant'\n",
    "lst = []\n",
    "dct = {}\n",
    "dct2 = {}\n",
    "for i in range(len(y)):\n",
    "    lst.append(y[i])\n",
    "for j in lst:\n",
    "    val = lst.count(j)\n",
    "    if j not in dct.keys():\n",
    "        dct[j] = [val]\n",
    "for m, n in dct.items():\n",
    "    for x in n:\n",
    "        if x not in dct2.keys():\n",
    "            dct2[x] = [m]\n",
    "        else:\n",
    "            dct2[x].append(m)\n",
    "print(dct2)"
   ]
  },
  {
   "cell_type": "code",
   "execution_count": null,
   "id": "0676747c",
   "metadata": {},
   "outputs": [],
   "source": []
  },
  {
   "cell_type": "code",
   "execution_count": null,
   "id": "17771a32",
   "metadata": {},
   "outputs": [],
   "source": []
  },
  {
   "cell_type": "code",
   "execution_count": null,
   "id": "e81e6b5a",
   "metadata": {},
   "outputs": [],
   "source": []
  },
  {
   "cell_type": "code",
   "execution_count": null,
   "id": "639b45ff",
   "metadata": {},
   "outputs": [],
   "source": []
  },
  {
   "cell_type": "code",
   "execution_count": null,
   "id": "bf26cdcd",
   "metadata": {},
   "outputs": [],
   "source": []
  },
  {
   "cell_type": "code",
   "execution_count": null,
   "id": "73fc3fe5",
   "metadata": {},
   "outputs": [],
   "source": []
  },
  {
   "cell_type": "code",
   "execution_count": null,
   "id": "2ccd04f0",
   "metadata": {},
   "outputs": [],
   "source": []
  },
  {
   "cell_type": "code",
   "execution_count": null,
   "id": "ece5af5c",
   "metadata": {},
   "outputs": [],
   "source": []
  },
  {
   "cell_type": "code",
   "execution_count": null,
   "id": "28df3df9",
   "metadata": {},
   "outputs": [],
   "source": []
  },
  {
   "cell_type": "raw",
   "id": "68c11574",
   "metadata": {},
   "source": [
    "1. From a given string, print the string in all uppercase if the number of uppercase\n",
    "letters is more than lowercase letters. Otherwise, if lowercase is greater or equal\n",
    "to uppercase letters, print all lowercase. The inputs will contain letters (A-Z, a-z)\n",
    "only.\n",
    "\n",
    "SampleInput Sample Output\n",
    "HOusE        HOUSE\n",
    "ApplE        apple\n",
    "BaNaNa       banana"
   ]
  },
  {
   "cell_type": "code",
   "execution_count": null,
   "id": "1bca90ed",
   "metadata": {},
   "outputs": [],
   "source": [
    "p = input(\"Enter: \")\n",
    "lst1 = []\n",
    "lst2 =[]\n",
    "for i in range(len(p)):\n",
    "    if 65 <= ord(p[i])<= 90:\n",
    "        lst1.append(p[i])\n",
    "    elif 97 <= ord(p[i])<= 122:\n",
    "        lst2.append(p[i])\n",
    "if len(lst1) > len(lst2):\n",
    "    ans = p.upper()\n",
    "elif len(lst1) <= len(lst2):\n",
    "    ans = p.lower()\n",
    "    \n",
    "print(ans)"
   ]
  },
  {
   "cell_type": "raw",
   "id": "1eefd72b",
   "metadata": {},
   "source": [
    "Given a string, print whether it is a number, word or mixed with digit and letters.\n",
    "If all the characters are numeric values, print NUMBER. If they are all letters, print\n",
    "WORD. If it is mixed, print MIXED.\n",
    "\n",
    "Sample Input     Sample Output\n",
    "213213           NUMBER\n",
    "jhg231j213       MIXED\n",
    "Hello            WORD"
   ]
  },
  {
   "cell_type": "code",
   "execution_count": 46,
   "id": "55aea36f",
   "metadata": {},
   "outputs": [
    {
     "name": "stdout",
     "output_type": "stream",
     "text": [
      "NUMBER\n"
     ]
    }
   ],
   "source": [
    "p = 23445\n",
    "\n",
    "if p == str(p):\n",
    "    q = p.isalpha()\n",
    "    if q == False:\n",
    "        print(\"MIXED\")\n",
    "    else:\n",
    "        print(\"WORD\")\n",
    "else:\n",
    "    if p == int(p):\n",
    "        print(\"NUMBER\")"
   ]
  },
  {
   "cell_type": "code",
   "execution_count": 23,
   "id": "a3a874bc",
   "metadata": {},
   "outputs": [
    {
     "name": "stdout",
     "output_type": "stream",
     "text": [
      "mouly\n",
      "WORD\n"
     ]
    }
   ],
   "source": [
    "inp = input('')\n",
    "countN = 0\n",
    "countW =0\n",
    "for i in range(len(inp)):\n",
    "    if 48 <= ord(inp[i]) <= 57:\n",
    "        countN += 1\n",
    "        \n",
    "    elif 65 <= ord(inp[i])<= 90 or 97 <= ord(inp[i])<= 122 :\n",
    "        countW += 1\n",
    "        \n",
    "if countN == len(inp):\n",
    "    a = \"NUMBER\"\n",
    "elif countW == len(inp):\n",
    "    a = \"WORD\"\n",
    "else:\n",
    "    a = \"MIXED\"\n",
    "    \n",
    "print(a)"
   ]
  },
  {
   "cell_type": "markdown",
   "id": "36cf3475",
   "metadata": {},
   "source": [
    "In a given string, there will be two uppercase letters in between some lowercase\n",
    "letters. Print the substring from the first uppercase letter to the last uppercase letter\n",
    "excluding them. If there are no letters in between them, print the word BLANK. It\n",
    "is guaranteed that there will be only two uppercase letters in the string.\n",
    "Sample Input      Sample Output\n",
    "baNgladEsh        glad\n",
    "coDIng            BLANK"
   ]
  },
  {
   "cell_type": "code",
   "execution_count": 28,
   "id": "e372d7aa",
   "metadata": {},
   "outputs": [
    {
     "name": "stdout",
     "output_type": "stream",
     "text": [
      "Enter: baNgladEsh\n",
      "glad\n"
     ]
    }
   ],
   "source": [
    "str1 = input(\"Enter: \")\n",
    "count1 = 0\n",
    "count2 = 0\n",
    "str2 = ''\n",
    "f_str =''\n",
    "\n",
    "for i in range(len(str1)):\n",
    "    if str1[i] == str1[i].upper():\n",
    "        count1 += 1\n",
    "        if count1 == 1:\n",
    "            str2 = str1[i+1:]\n",
    "            \n",
    "for j in range(len(str2)):\n",
    "    if str2[j] == str2[j].upper():\n",
    "        count2 += 1\n",
    "        if count2 == 1:\n",
    "            f_str = str2[:j]\n",
    "            if str2 == '':\n",
    "                f_str = \"BLANK\"\n",
    "            else:\n",
    "                f_str = str2[:j]\n",
    "print(f_str)"
   ]
  },
  {
   "cell_type": "code",
   "execution_count": null,
   "id": "e350dc8f",
   "metadata": {},
   "outputs": [],
   "source": []
  },
  {
   "cell_type": "markdown",
   "id": "21634972",
   "metadata": {},
   "source": [
    "Write a Python program to find the first appearance of the substring 'too' and\n",
    "'good' from a given string. If 'good' follows the 'too', replace the whole 'too'' good'\n",
    "substring with 'excellent' and print the resulting string. If the above does not\n",
    "appear, print the string as it is.\n",
    "\n",
    "Sample Input                             Sample Output\n",
    "The book is not too good!                The book is not excellent!\n",
    "This book is good too!                   This book is good too!\n"
   ]
  },
  {
   "cell_type": "code",
   "execution_count": 1,
   "id": "31528701",
   "metadata": {},
   "outputs": [
    {
     "name": "stdout",
     "output_type": "stream",
     "text": [
      "This book is not excellent ! "
     ]
    }
   ],
   "source": [
    "inp ='This book is not too good !'\n",
    "a = 'too'\n",
    "b = 'good'\n",
    "res = ''\n",
    "count = 0\n",
    "lst = []\n",
    "val = inp.split()\n",
    "for i in val:\n",
    "    lst.append(i)\n",
    "\n",
    "for i in range(len(lst)):\n",
    "    if lst[i] == a:\n",
    "        count += 1\n",
    "        if count <= 1 and (lst[i+1] == b or lst[i+1][:-1]):\n",
    "            lst[i] = ''\n",
    "            lst[i+1] = 'excellent'\n",
    "        else:\n",
    "            lst = lst\n",
    "\n",
    "for we in lst:\n",
    "    if we == '':\n",
    "        lst.remove(we)\n",
    "sum1 = ''\n",
    "for l in lst:\n",
    "    res = ''.join(str(l))\n",
    "    print(res, end=' ')  "
   ]
  },
  {
   "cell_type": "raw",
   "id": "ca65a5df",
   "metadata": {},
   "source": [
    "Create a string from two given strings by concatenating common characters of\n",
    "the given strings.\n",
    "\n",
    "Sample Input             Sample Output\n",
    "harry, hermione          hrrhr\n",
    "dean, tom                Nothing in common."
   ]
  },
  {
   "cell_type": "code",
   "execution_count": 12,
   "id": "93523d8b",
   "metadata": {},
   "outputs": [
    {
     "name": "stdout",
     "output_type": "stream",
     "text": [
      "enter: tom\n",
      "enter: dean\n",
      "\n"
     ]
    }
   ],
   "source": [
    "a = input(\"enter: \")\n",
    "b = input(\"enter: \")\n",
    "blank = ''\n",
    "for i in a:\n",
    "    if i in b:\n",
    "        blank += i\n",
    "for j in b:\n",
    "    if j in a:\n",
    "        blank += j\n",
    "if len(blank) > 0:\n",
    "    g = blank\n",
    "else:\n",
    "    g = \"Nothing in common\"\n",
    "print()  "
   ]
  },
  {
   "cell_type": "code",
   "execution_count": 31,
   "id": "a242b9c5",
   "metadata": {},
   "outputs": [
    {
     "name": "stdout",
     "output_type": "stream",
     "text": [
      "hrrhr\n"
     ]
    }
   ],
   "source": [
    "a1 = 'harry'\n",
    "a2 = 'hermione'\n",
    "b1 = len(a1)\n",
    "b2 = len(a2)\n",
    "count = 0\n",
    "factor = 0\n",
    "lst1 = []\n",
    "if b1 > b2:\n",
    "    p = b2\n",
    "elif b1 < b2:\n",
    "    p = b1\n",
    "if a1[i] not in a2[i]:\n",
    "    g = \"Nothing in common\"\n",
    "else:\n",
    "    for i in range(p):\n",
    "        if a1[i] in a2[i]:\n",
    "            count += 1\n",
    "            if count >= 1:\n",
    "                lst1.append(a1[i])\n",
    "            if count > 1:\n",
    "                lst1.append(a1[i])\n",
    "    for j in range(p):\n",
    "        if a2[j] in a1[j]:\n",
    "            factor += 1\n",
    "            if factor >= 1:\n",
    "                lst1.append(a2[j])\n",
    "        \n",
    "    for i in lst1:\n",
    "        g = ''.join(lst1)\n",
    "print(g)"
   ]
  },
  {
   "cell_type": "code",
   "execution_count": 35,
   "id": "a00e2587",
   "metadata": {},
   "outputs": [
    {
     "name": "stdout",
     "output_type": "stream",
     "text": [
      "Enter: tom\n",
      "Enter: dean\n",
      "Nothing in common\n"
     ]
    }
   ],
   "source": [
    "a1 = input(\"Enter: \")\n",
    "a2 = input(\"Enter: \")\n",
    "sum1 = \"\"\n",
    "for elm in a1:\n",
    "    if elm in a2:\n",
    "        sum1+= elm\n",
    "for elm in a2:\n",
    "    if elm in a1:\n",
    "        sum1+= elm\n",
    "if len(sum1) > 0:\n",
    "    q = sum1\n",
    "else:\n",
    "    q = \"Nothing in common\"\n",
    "print(q)"
   ]
  },
  {
   "cell_type": "raw",
   "id": "a549da6c",
   "metadata": {},
   "source": [
    "Again, you have lost your USIS password!! You went to the registrar office and\n",
    "requested for a new password. This time, you need to follow some rules to set your\n",
    "password. Otherwise, they won't change it. The rules are\n",
    "At least one lowercase letter\n",
    "At least one uppercase letter\n",
    "At least one digit (0-9)\n",
    "At least one special character (_ , $ , #, @)\n",
    "Your task is to find whether a given password follows all those rules. If it breaks\n",
    "any rule, you have to print Lowercase Missing, Uppercase Missing, Digit Missing\n",
    "or Special Missing respective to the missing case. For more than one rule break,\n",
    "print all the rules that were broken (order doesn't matter). If the password is ok,\n",
    "print OK.\n",
    "                                      \n",
    "Sample Input\n",
    "ohMyBR@CU\n",
    "ohmybracu\n",
    "OhMyBR@CU20\n",
    "\n",
    "Sample Output\n",
    "Digit missing\n",
    "Uppercase character missing, Digit missing, Special character missing\n",
    "OK                                      "
   ]
  },
  {
   "cell_type": "code",
   "execution_count": 37,
   "id": "afbad224",
   "metadata": {},
   "outputs": [
    {
     "name": "stdout",
     "output_type": "stream",
     "text": [
      "OhMyBR@CU20\n",
      "OK\n"
     ]
    }
   ],
   "source": [
    "inp = input('')\n",
    "lw = False\n",
    "bg = False\n",
    "dtg = False\n",
    "uniq = False \n",
    "\n",
    "for i in range(len(inp)):\n",
    "    if ( 97 <= ord(inp[i])<= 122):\n",
    "        lw = True\n",
    "    elif (65 <= ord(inp[i]) <= 90):\n",
    "        bg = True\n",
    "    elif(48 <= ord(inp[i]) <= 59):\n",
    "        dgt = True\n",
    "    elif (ord(inp[i])== 95 or ord(inp[i])== 23 or ord(inp[i]) ==24 or ord(inp[i])==64):\n",
    "        uniq = True\n",
    "\n",
    "lst = []        \n",
    "if (lw == True and bg == True and dtg == True and uniq == True):\n",
    "    print(\"OK\")\n",
    "else:\n",
    "    if lw == False:\n",
    "        lst.append(\"Lowercase character missing\")\n",
    "    if bgdfgbv  == False:\n",
    "        lst.append(\"Uppercase character missing\")\n",
    "    if dig == False:\n",
    "        lst.append(\"Digit missing\")\n",
    "    if uniq == False:\n",
    "        lst.append(\"Special character missing\")\n",
    "for i in range(len(lst)):\n",
    "    if i>0:\n",
    "        print(',' , lst[i], end = ' ')\n",
    "    else:\n",
    "        print(lst[i], end = ' ')"
   ]
  },
  {
   "cell_type": "code",
   "execution_count": null,
   "id": "bf9c678b",
   "metadata": {},
   "outputs": [],
   "source": []
  },
  {
   "cell_type": "raw",
   "id": "042cfc42",
   "metadata": {},
   "source": []
  },
  {
   "cell_type": "code",
   "execution_count": null,
   "id": "b43869e5",
   "metadata": {},
   "outputs": [],
   "source": []
  },
  {
   "cell_type": "code",
   "execution_count": null,
   "id": "1768bef4",
   "metadata": {},
   "outputs": [],
   "source": []
  },
  {
   "cell_type": "code",
   "execution_count": null,
   "id": "0115d55c",
   "metadata": {},
   "outputs": [],
   "source": []
  },
  {
   "cell_type": "code",
   "execution_count": null,
   "id": "b916a009",
   "metadata": {},
   "outputs": [],
   "source": []
  },
  {
   "cell_type": "code",
   "execution_count": null,
   "id": "8a03d0bf",
   "metadata": {},
   "outputs": [],
   "source": []
  },
  {
   "cell_type": "code",
   "execution_count": 11,
   "id": "8653c8c3",
   "metadata": {},
   "outputs": [
    {
     "name": "stdout",
     "output_type": "stream",
     "text": [
      "{'a': 400, 'e': 200, 'b': 300, 'c': 200, 'd': 700}\n",
      "(200, 300, 400, 700)\n"
     ]
    }
   ],
   "source": [
    "#dict 1\n",
    "\n",
    "dct1 = {'a': 100, 'b': 100, 'c': 200, 'd': 300}\n",
    "dct2 = {'a': 300, 'b': 200, 'd': 400, 'e': 200}\n",
    "ndct ={}\n",
    "process = []\n",
    "for i, j in dct1.items():\n",
    "    for u, v in dct2.items():\n",
    "        if i not in dct2:\n",
    "            ndct[i] = j\n",
    "        if u not in dct1:\n",
    "            ndct[u] = v\n",
    "        if i == u:\n",
    "            g  = j + v\n",
    "            ndct[i] = g\n",
    "for x in ndct.values():\n",
    "    if x not in process:\n",
    "        process.append(x)\n",
    "        process.sort()\n",
    "    \n",
    "j= tuple(process)\n",
    "\n",
    "\n",
    "print(ndct)\n",
    "print(j)"
   ]
  },
  {
   "cell_type": "code",
   "execution_count": 20,
   "id": "ab86146a",
   "metadata": {},
   "outputs": [
    {
     "name": "stdout",
     "output_type": "stream",
     "text": [
      "10\n",
      "20\n",
      "20\n",
      "30\n",
      "10\n",
      "50\n",
      "90\n",
      "STOP\n",
      "10 - 2 times\n",
      "20 - 2 times\n",
      "30 - 1 times\n",
      "50 - 1 times\n",
      "90 - 1 times\n"
     ]
    }
   ],
   "source": [
    "#2\n",
    "dy = {}\n",
    "while True:\n",
    "    inp = input()\n",
    "    if inp == \"STOP\":\n",
    "        break\n",
    "    else:\n",
    "        if inp not in dy.keys():\n",
    "            dy.update({inp : 1})\n",
    "        else:\n",
    "            dy[inp] += 1\n",
    "            \n",
    "for m, n in dy.items():\n",
    "    print(f\"{m} - {n} times\")\n"
   ]
  },
  {
   "cell_type": "code",
   "execution_count": 32,
   "id": "d532a8fa",
   "metadata": {},
   "outputs": [
    {
     "name": "stdout",
     "output_type": "stream",
     "text": [
      "{'value1': ['key1', 'key3'], 'value2': ['key2']}\n"
     ]
    }
   ],
   "source": [
    "#3\n",
    "workdct = {'key1' : 'value1', 'key2' : 'value2', 'key3' : 'value1'}\n",
    "ndct = {}\n",
    "l1 = []\n",
    "l2 = []\n",
    "for a, b in workdct.items():\n",
    "    if b not in ndct.keys():\n",
    "        ndct[b] = [a]\n",
    "    else:\n",
    "        ndct[b].append(a)\n",
    "print(ndct)"
   ]
  },
  {
   "cell_type": "code",
   "execution_count": null,
   "id": "041e4487",
   "metadata": {},
   "outputs": [],
   "source": []
  },
  {
   "cell_type": "code",
   "execution_count": null,
   "id": "7a6912db",
   "metadata": {},
   "outputs": [],
   "source": [
    "#functionnn"
   ]
  },
  {
   "cell_type": "code",
   "execution_count": null,
   "id": "4d6dadb7",
   "metadata": {},
   "outputs": [],
   "source": [
    "# You have been hired by the Abahani football club to write a function that will calculate the total bonus on the yearly earnings of each player for the total goals they have scored.\n",
    "# Since the number of players will vary, you decide to use the \"*args\" technique that you learned in your CSE110 class.\n",
    "# For each player: pass the name, yearly earning, the total goal scored this season, bonus percent per goal.\n",
    "# Additionally,\n",
    "# If the goal scored is above 30, add an extra bonus of 10000 taka.\n",
    "# If it is between 20 and 30 inclusive, add an extra 5000 taka.\n",
    "# Example1:\n",
    "# cal_bonus(\"Neymar\", 1200000, 35, 5)\n",
    "# bonus = 35 * (5 / 100 * 1200000) + 10000 = 2110000\n",
    "# Function call:   \n",
    "# cal_bonus(\"Neymar\", 1200000, 35, 5)\n",
    "# Output:    \n",
    "# Neymar earned a bonus of 2110000 Taka for 35 goals.\n",
    "# Example2:\n",
    "# Function call:\n",
    "# function_name(\"Neymar\", 1200000, 30, 10, \"Jamal\", 700000, 19, 5)\n",
    "# Output:\n",
    "# Neymar earned a bonus of 3605000 Taka for 30 goals.\n",
    "# Jamal earned a bonus of 665000 Taka for 19 goals.\n",
    "# Example3:\n",
    "# Function call:\n",
    "# function_name(\"Neymar\", 1200000, 35, 5, 'Jamal', 700000, 19, 8, 'Luis', 80000, 25, 10))\n",
    "# Output:\n",
    "# Neymar earned a bonus of 2110000 Taka for 35 goals.\n",
    "# Jamal earned a bonus of 1064000 Taka for 19 goals.\n",
    "# Luis earned a bonus of 205000 Taka for 25 goals."
   ]
  },
  {
   "cell_type": "code",
   "execution_count": null,
   "id": "7bac6f6c",
   "metadata": {},
   "outputs": [],
   "source": [
    " def cal_bonus(*args):\n",
    "    for k in range(len(args)// 4):\n",
    "        \n",
    "cal_bonus(\"Neymar\", 1200000, 35, 5, 'Jamal', 700000, 19, 8, 'Luis', 80000, 25, 10)"
   ]
  },
  {
   "cell_type": "code",
   "execution_count": 45,
   "id": "ae6c6ddf",
   "metadata": {},
   "outputs": [
    {
     "name": "stdout",
     "output_type": "stream",
     "text": [
      "Enter item: Beef Burger\n",
      "Enter place: Dhanmondi\n",
      "243.6\n"
     ]
    }
   ],
   "source": [
    "#3\n",
    "def tprice(name, place = 'Mohakhali'):\n",
    "    dct = {'BBQ Chicken Cheese Burger': 250, 'Beef Burger': 170, 'Naga Drums': 200}\n",
    "    for s, t in dct.items():\n",
    "        if name in s:\n",
    "            if place == 'Mohakhali' or place == '':\n",
    "                del_chrg = 40\n",
    "            else:\n",
    "                del_chrg = 60\n",
    "         \n",
    "            tp = t + del_chrg + (t*(8/100))\n",
    "            \n",
    "            print(tp)\n",
    "            \n",
    "a = input(\"Enter item: \")\n",
    "b = input(\"Enter place: \")\n",
    "        \n",
    "tprice(a, b)"
   ]
  },
  {
   "cell_type": "code",
   "execution_count": 3,
   "id": "5978c882",
   "metadata": {},
   "outputs": [
    {
     "name": "stdout",
     "output_type": "stream",
     "text": [
      "Enter your list: 1 4 2 3\n",
      "Enter your list: 2 1 4 6 10\n",
      "Enter your list: 1 4 2 -1 6\n",
      "Enter your list: STOP\n",
      "UB Jumper\n",
      "UB Jumper\n",
      "Not UB Jumper\n"
     ]
    }
   ],
   "source": [
    "#4\n",
    "lst = []\n",
    "while True:\n",
    "    word = input(\"Enter your list: \")\n",
    "    if word ==\"STOP\":\n",
    "        break\n",
    "    else:\n",
    "        word = word.split(\" \")\n",
    "        lst.append(word)\n",
    "sum1 = 0\n",
    "flag = True\n",
    "count = 0\n",
    "lim = 0\n",
    "for lstelm in lst:\n",
    "    for elm in lstelm:\n",
    "        if count < len(lstelm) - 1:\n",
    "            sum1 = int(elm) - int(lstelm[count+1])\n",
    "            sum1 = abs(sum1)\n",
    "            #print(sum1)\n",
    "            count += 1\n",
    "            if sum1 < len(lstelm) and sum1 > 0:\n",
    "                continue\n",
    "            else:\n",
    "                flag = False\n",
    "    if flag:\n",
    "        print(\"UB Jumper\")\n",
    "            \n",
    "    else:\n",
    "        print(\"Not UB Jumper\")\n",
    "    flag = True\n",
    "    count = 0"
   ]
  },
  {
   "cell_type": "code",
   "execution_count": null,
   "id": "f1422a0d",
   "metadata": {},
   "outputs": [],
   "source": []
  },
  {
   "cell_type": "code",
   "execution_count": null,
   "id": "1ce85d96",
   "metadata": {},
   "outputs": [],
   "source": []
  },
  {
   "cell_type": "code",
   "execution_count": 5,
   "id": "028ab878",
   "metadata": {},
   "outputs": [
    {
     "name": "stdout",
     "output_type": "stream",
     "text": [
      "Enter your string: my favourite animal is a dog. a dog has sharp teeth so that it can eat flesh very easily. do you know my pet dog’s name? i love my pet very much.\n",
      "My favourite animal is a dog. A dog has sharp teeth so that it can eat flesh very easily. Do you know my pet dog’s name? I love my pet very much.\n"
     ]
    }
   ],
   "source": [
    "def cap_fixer(inp):\n",
    "    inp = inp.split()\n",
    "    sgns = [\".\",\"!\",\"?\"]\n",
    "    flag = False\n",
    "    count = 0\n",
    "    final  = \"\"\n",
    "    for p in inp:\n",
    "        if count ==0:\n",
    "            p = p.capitalize()\n",
    "            count += 1\n",
    "        if flag:\n",
    "            p = p.capitalize()\n",
    "            flag = False\n",
    "        for q in p:\n",
    "            if q in sgns:\n",
    "                flag = True\n",
    "        if p == \"i\":\n",
    "            p = p.capitalize()\n",
    "        elif \"i\" in p:\n",
    "            if len(p) == 2:\n",
    "                if p[1] in sgns:\n",
    "                    p = p.capitalize()\n",
    "        final += p + \" \"\n",
    "    final = final.rstrip()\n",
    "    return final\n",
    "\n",
    "inp = input(\"Enter your string: \")\n",
    "print(cap_fixer(inp))"
   ]
  },
  {
   "cell_type": "code",
   "execution_count": 10,
   "id": "0209ef27",
   "metadata": {},
   "outputs": [
    {
     "name": "stdout",
     "output_type": "stream",
     "text": [
      "{'mouly': {'baby1': 3, 'baby2': 4}}\n"
     ]
    }
   ],
   "source": [
    "dic  = {}\n",
    "dic['mouly'] = {}\n",
    "dic['mouly']['baby1'] = 3\n",
    "dic['mouly']['baby2'] = 4\n",
    "print(dic)"
   ]
  },
  {
   "cell_type": "code",
   "execution_count": 18,
   "id": "d6e67294",
   "metadata": {},
   "outputs": [
    {
     "name": "stdout",
     "output_type": "stream",
     "text": [
      "sihT si eht tsil gnirts ziuq "
     ]
    }
   ],
   "source": [
    "a = 'This is the list string quiz'.split(' ')\n",
    "lst = []\n",
    "lst2 = []\n",
    "for i in a:\n",
    "    lst.append(i)\n",
    "    lst2.append(i[-1::-1])\n",
    "for i in lst2:\n",
    "    s = ''.join(str(i))\n",
    "    print(s, end =' ')"
   ]
  },
  {
   "cell_type": "code",
   "execution_count": null,
   "id": "2fa2854b",
   "metadata": {},
   "outputs": [],
   "source": []
  },
  {
   "cell_type": "code",
   "execution_count": null,
   "id": "e16a73bd",
   "metadata": {},
   "outputs": [],
   "source": []
  }
 ],
 "metadata": {
  "kernelspec": {
   "display_name": "Python 3",
   "language": "python",
   "name": "python3"
  },
  "language_info": {
   "codemirror_mode": {
    "name": "ipython",
    "version": 3
   },
   "file_extension": ".py",
   "mimetype": "text/x-python",
   "name": "python",
   "nbconvert_exporter": "python",
   "pygments_lexer": "ipython3",
   "version": "3.8.8"
  }
 },
 "nbformat": 4,
 "nbformat_minor": 5
}
