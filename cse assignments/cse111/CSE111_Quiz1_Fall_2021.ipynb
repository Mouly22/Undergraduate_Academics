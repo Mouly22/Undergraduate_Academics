{
 "cells": [
  {
   "cell_type": "markdown",
   "id": "97996202",
   "metadata": {
    "id": "97996202"
   },
   "source": [
    "# <font color=\"blue\">CSE111-Quiz1-Fall-2021</font>"
   ]
  },
  {
   "cell_type": "markdown",
   "id": "a03dbfc1",
   "metadata": {
    "id": "a03dbfc1"
   },
   "source": [
    "# 𝗤𝘂𝗲𝘀𝘁𝗶𝗼𝗻 1:<br>\n",
    "Write a python program that will make a dictionary from the given list of<br>\n",
    "Student IDs based on the department and admitted year.<br>\n",
    "ID explanation:<br>\n",
    "First 2 digits: Year<br>\n",
    "4th and 5th digit: Department<br>\n",
    "$\\;\\;\\;\\;\\;\\;\\;\\;\\;$01 = CSE, 41=CS, 21=EEE, Any other digits = Other<br>\n",
    "\n",
    "For example, ID: 21121347, in this ID, the first 2 digits are 21. So the <br>\n",
    "year is 2021.<br>\n",
    "The 4th and 5th digit are 21. So the department in EEE.<br>\n",
    "\n",
    "**Given List <font color=\"blue\">[Your code should work for all types of similar IDs if the given List is changed.]:</font>**<br>\n",
    "\n",
    "IDs = \n",
    "['20201199','21121347','20141052','20341121','21241369','21272199','19241187','19101007','20101035', '21121875', '19141534', '19301552', '21141135', '21365001']<br>\n",
    "\n",
    "**Sample Output (You have to print the resultant dictionary only):**<br>\n",
    "{<br>\n",
    "$\\;\\;$2020:{<br>\n",
    "$\\;\\;\\;\\;\\;\\;$'CSE': ['20201199', '20101035'],<br>\n",
    "$\\;\\;\\;\\;\\;\\;$'CS': ['20141052', '20341121']<br>\n",
    "$\\;\\;\\;\\;\\;$},<br>\n",
    "$\\;\\;$2021:{<br>\n",
    "$\\;\\;\\;\\;\\;\\;$'EEE': ['21121347', '21121875'],<br>\n",
    "$\\;\\;\\;\\;\\;\\;$'CS': ['21241369', '21141135'],<br>\n",
    "$\\;\\;\\;\\;\\;\\;$'Other': ['21272199', '21365001']<br>\n",
    "$\\;\\;\\;\\;\\;$},<br>\n",
    "$\\;\\;$2019:{<br>\n",
    "$\\;\\;\\;\\;\\;\\;$'CS': ['19241187', '19141534'],<br>\n",
    "$\\;\\;\\;\\;\\;\\;$'CSE': ['19101007', '19301552']<br>\n",
    "$\\;\\;\\;\\;\\;$}<br>\n",
    "}\n"
   ]
  },
  {
   "cell_type": "code",
   "execution_count": 65,
   "id": "7a025fe5",
   "metadata": {
    "id": "7a025fe5",
    "outputId": "2b45d716-e602-4886-d57a-b34f5f5b8cdd"
   },
   "outputs": [
    {
     "name": "stdout",
     "output_type": "stream",
     "text": [
      "{'2020': {}, '2021': {}, '2019': {}}\n",
      "['CSE', 'EEE', 'CS', 'CS', 'CS', 'Other', 'CS', 'CSE', 'CSE', 'EEE', 'CS', 'CSE', 'CS', 'Other']\n"
     ]
    }
   ],
   "source": [
    " \n",
    "        \n",
    "    "
   ]
  },
  {
   "cell_type": "markdown",
   "id": "878e1322",
   "metadata": {
    "id": "878e1322"
   },
   "source": [
    "# 𝗤𝘂𝗲𝘀𝘁𝗶𝗼𝗻 2:<br>\n",
    "Write a python program that will make a dictionary from the given list of Student IDs based on the department and admitted year.<br>\n",
    "ID explanation: <br>\n",
    "First 2 digits: Year<br>\n",
    "4th and 5th digit: Department<br>\n",
    "                          01 = CSE, 41=CS, 21=EEE, Any other digits = Other<br>       \n",
    "\n",
    "For example, ID: 21121347, in this ID, the first 2 digits are 21. So the year is 2021. <br>\n",
    "The 4th and 5th digit are 21. So the department in EEE.<br>         \n",
    "\n",
    "**Given List <font color=\"blue\">[Your code should work for all types of similar IDs if the given List is changed.]:</font>**\n",
    "\n",
    "IDs = ['20201199','21121347','20141052','20341121','21241369','21272199',\\\n",
    "'19241187','19101007','20101035', '21121875', '19141534', '19301552', '21141135', '21365001']<br>\n",
    "\n",
    "**Sample Output (You have to print the resultant dictionary only)**<br>\n",
    "{<br>\n",
    "$\\;\\;$2020:{ <br>\n",
    "$\\;\\;\\;\\;\\;\\;$'CSE': ['20201199', '20101035'], <br>\n",
    "$\\;\\;\\;\\;\\;\\;$'CS': ['20141052', '20341121'] <br>\n",
    "$\\;\\;\\;\\;\\;$},<br>\n",
    "$\\;\\;$2021:{ <br>\n",
    "$\\;\\;\\;\\;\\;\\;$'EEE': ['21121347', '21121875'], <br>\n",
    "$\\;\\;\\;\\;\\;\\;$'CS': ['21241369', '21141135'],  <br>\n",
    "$\\;\\;\\;\\;\\;\\;$'Other': ['21272199', '21365001']<br>\n",
    "$\\;\\;\\;\\;\\;$},<br>\n",
    "$\\;\\;$2019:{\n",
    "$\\;\\;\\;\\;\\;\\;$'CS': ['19241187', '19141534'], <br>\n",
    "$\\;\\;\\;\\;\\;\\;$'CSE': ['19101007', '19301552'] <br>\n",
    "$\\;\\;\\;\\;\\;$}<br>\n",
    "}"
   ]
  },
  {
   "cell_type": "code",
   "execution_count": 31,
   "id": "aa2771eb",
   "metadata": {
    "id": "aa2771eb"
   },
   "outputs": [
    {
     "name": "stdout",
     "output_type": "stream",
     "text": [
      "{'2020': {'CSE': ['20201199', '20101035'], 'CS': ['20141052', '20341121']}, '2021': {'EEE': ['21121347', '21121875'], 'CS': ['21241369', '21141135'], 'Other': ['21272199', '21365001']}, '2019': {'CS': ['19241187', '19141534'], 'CSE': ['19101007', '19301552']}}\n"
     ]
    }
   ],
   "source": [
    "#Todo\n",
    "IDs = ['20201199','21121347','20141052','20341121','21241369','21272199','19241187','19101007','20101035', '21121875', '19141534', '19301552', '21141135', '21365001']\n",
    "dct = {}\n",
    "for i in IDs:\n",
    "    yr = \"20\" + i[:2]\n",
    "    dept = i[3:5]\n",
    "    if dept == '01':\n",
    "        val = \"CSE\"\n",
    "    elif dept == '41':\n",
    "        val = 'CS'\n",
    "    elif dept == '21':\n",
    "        val = \"EEE\"\n",
    "    else:\n",
    "        val = \"Other\"\n",
    "\n",
    "    if yr not in dct.keys():\n",
    "        dct[yr] = {val: [i]}\n",
    "    else:\n",
    "        if val not in dct[yr].keys():\n",
    "            dct[yr][val] = [i]\n",
    "        else:\n",
    "            dct[yr][val].append(i)    \n",
    "print(dct)\n",
    "\n"
   ]
  },
  {
   "cell_type": "code",
   "execution_count": 30,
   "id": "420421d2",
   "metadata": {},
   "outputs": [
    {
     "name": "stdout",
     "output_type": "stream",
     "text": [
      "{'2020': {'CSE': ['20201199', '20101035'], 'CS': ['20141052', '20341121']}, '2021': {'EEE': ['21121347', '21121875'], 'CS': ['21241369', '21141135'], 'Other': ['21272199', '21365001']}, '2019': {'CS': ['19241187', '19141534'], 'CSE': ['19101007', '19301552']}}\n"
     ]
    }
   ],
   "source": [
    "lst = ['20201199','21121347','20141052','20341121','21241369','21272199','19241187','19101007','20101035', '21121875', '19141534', '19301552', '21141135', '21365001']\n",
    "dic1 = {}\n",
    "for elm in lst:\n",
    "    year = \"20\"+ elm[:2]\n",
    "    deptcode = elm[3:5]\n",
    "    if deptcode == \"01\":\n",
    "        dept = \"CSE\"\n",
    "    elif deptcode == \"21\":\n",
    "        dept = \"EEE\"\n",
    "    elif deptcode == \"41\":\n",
    "        dept = \"CS\"\n",
    "    else:\n",
    "        dept = \"Other\"\n",
    "    if year not in dic1.keys():\n",
    "        dic1[year] = {dept:[elm]}\n",
    "    else:\n",
    "        if dept not in dic1[year].keys():\n",
    "            dic1[year][dept] =[elm]\n",
    "        else:\n",
    "            dic1[year][dept].append(elm)\n",
    "print(dic1)\n",
    "\n"
   ]
  },
  {
   "cell_type": "markdown",
   "id": "e5696cd4",
   "metadata": {
    "id": "e5696cd4"
   },
   "source": [
    "# 𝗤𝘂𝗲𝘀𝘁𝗶𝗼𝗻 3:<br>\n",
    "Write a python program that will take N as input from the user and then take N lines of input from the user. Each line will contain a tennis player name, year and tournament name that he won that year. Store each player's championship information in a dictionary where the key will be the player name and corresponding value will be a list containing all the tournaments the player won along with the year of the tournament. <br>\n",
    "\n",
    "**Sample Input 1:**<br>\n",
    "6<br>\n",
    "2021 AustralianOpen Djokovic<br>\n",
    "2021 FrenchOpen Djokovic<br>\n",
    "2020 FrenchOpen Nadal<br>\n",
    "2020 USOpen Dominic<br>\n",
    "2020 AustralianOpen Djokovic<br>\n",
    "2019 USOpen Nadal<br>\n",
    "\n",
    "**Sample Output 1 (No need to follow this output format. Just print the resultant dictionary. ):**<br>\n",
    "\n",
    "{<br>\n",
    "$\\;\\;\\;\\;$'Djokovic':<br>\n",
    "$\\;\\;${<br>\n",
    "$\\;\\;\\;\\;$2021:['AustralianOpen','FrenchOpen'],<br>\n",
    "$\\;\\;\\;\\;$2020:['AustralianOpen']<br>\n",
    "$\\;\\;$},<br>\n",
    "$\\;\\;\\;\\;$'Nadal':<br>\n",
    "$\\;\\;${<br>\n",
    "$\\;\\;\\;\\;$2020:['FrenchOpen'], <br>\n",
    "$\\;\\;\\;\\;$2019: ['USOpen']<br>\n",
    "$\\;\\;$},<br>\n",
    "$\\;\\;\\;\\;$'Dominic':<br>\n",
    "$\\;\\;${<br>\n",
    "$\\;\\;\\;\\;$2020:['USOpen']<br>\n",
    "$\\;\\;$}<br>\n",
    "}"
   ]
  },
  {
   "cell_type": "code",
   "execution_count": 3,
   "id": "43358946",
   "metadata": {
    "id": "43358946"
   },
   "outputs": [
    {
     "name": "stdout",
     "output_type": "stream",
     "text": [
      "Enter number: 6\n",
      "2021 AustralianOpen Djokovic\n",
      "2021 FrenchOpen Djokovic\n",
      "2020 FrenchOpen Nadal\n",
      "2020 USOpen Dominic\n",
      "2020 AustralianOpen Djokovic\n",
      "2019 USOpen Nadal\n",
      "{'Djokovic': {'2021': ['AustralianOpen', 'FrenchOpen'], '2020': ['AustralianOpen']}, 'Nadal': {'2020': ['FrenchOpen'], '2019': ['USOpen']}, 'Dominic': {'2020': ['USOpen']}}\n"
     ]
    }
   ],
   "source": [
    "#Todo\n",
    "n = int(input(\"Enter number: \"))\n",
    "lst=[]\n",
    "dic1 = {}\n",
    "for i in range(n):\n",
    "    inp = input().split(' ')\n",
    "    lst.append(inp)\n",
    "for p in lst:\n",
    "    if p[-1] not in dic1.keys():\n",
    "        dic1[p[-1]] = {p[0]:[p[1]]}\n",
    "    else:\n",
    "        if p[0] not in dic1[p[-1]].keys():\n",
    "            dic1[p[-1]][p[0]] = [p[1]]\n",
    "        else:\n",
    "            dic1[p[-1]][p[0]].append(p[1])\n",
    "print(dic1)"
   ]
  },
  {
   "cell_type": "markdown",
   "id": "253e31c5",
   "metadata": {
    "id": "253e31c5"
   },
   "source": [
    "# 𝗤𝘂𝗲𝘀𝘁𝗶𝗼𝗻 4:<br>\n",
    "Suppose you are given a list of contacts as input in single line. Your task <br>\n",
    "is to create a “Phonebook” out of those contacts. The phonebook is nothing <br>\n",
    "but a nested dictionary which is made of 1 rule:<br>\n",
    "\n",
    "1.You have to save each contact based on the starting letter. If there is <br>\n",
    "no contact starting with a specific letter, that letter should not be shown <br>\n",
    "in the phone book.<br>\n",
    "\n",
    "While printing the phonebook as output the starting letters should be <br>\n",
    "sorted from A-Z. Also the contacts under each letter should be shown in <br>\n",
    "sorted order based on the contact names. See the sample output for <br>\n",
    "clarification.<br>\n",
    "\n",
    "**Sample Input:**<br>\n",
    "Bob 01932342392 Alice 01546734123 Britney 01303544535 Aeron 01723454642 <br>\n",
    "Smith 01923457890 Tarek 09663922 Carol 01823456785<br>\n",
    "\n",
    "**Sample Output: (No need to follow this output format. Just print the <br>\n",
    "resultant dictionary in alphabetical order)**<br>\n",
    "\n",
    "{<br>\n",
    "A:<br>\n",
    "$\\;\\;${<br>\n",
    "$\\;\\;\\;\\;$Aeron:01723454642<br>\n",
    "$\\;\\;\\;\\;$Alice:01546734123<br>\n",
    "$\\;\\;$}<br>\n",
    "B:<br>\n",
    "$\\;\\;${<br>\n",
    "$\\;\\;\\;\\;$Bob:01932342392<br>\n",
    "$\\;\\;\\;\\;$Britney:01303544535<br>\n",
    "$\\;\\;$}<br>\n",
    "C:<br>\n",
    "$\\;\\;${<br>\n",
    "$\\;\\;\\;\\;$Carol:01823456785<br>\n",
    "$\\;\\;$}<br>\n",
    "S:<br>\n",
    "$\\;\\;${<br>\n",
    "$\\;\\;\\;\\;$Smith:01923457890<br>\n",
    "$\\;\\;$}<br>\n",
    "T:<br>\n",
    "$\\;\\;${<br>\n",
    "$\\;\\;\\;\\;$Tarek:09663922<br>\n",
    "$\\;\\;$}<br>\n",
    "}"
   ]
  },
  {
   "cell_type": "code",
   "execution_count": 24,
   "id": "628d3455",
   "metadata": {
    "id": "628d3455"
   },
   "outputs": [
    {
     "data": {
      "text/plain": [
       "{'B': {'Bob': '01932342392', 'Britney': '01303544535'},\n",
       " 'A': {'Alice': '01546734123', 'Aeron': '01723454642'},\n",
       " 'S': {'Smith': '01923457890'},\n",
       " 'T': {'Tarek': '09663922'},\n",
       " 'C': {'Carol': '01823456785'}}"
      ]
     },
     "execution_count": 24,
     "metadata": {},
     "output_type": "execute_result"
    }
   ],
   "source": [
    "def phonebook(*vals):\n",
    "    dct = {}\n",
    "    lst = []\n",
    "    for i in range(len(vals)//2):\n",
    "        lst.append([vals[0 + 2*i], vals[1 + 2*i]])\n",
    "        \n",
    "    for p in lst:\n",
    "        a = p[0][:1]\n",
    "        if a not in dct.keys():\n",
    "            dct[a] = {p[0] : p[-1]}\n",
    "        else:\n",
    "            if p[0] not in dct[a].keys():\n",
    "                dct[a][p[0]] = p[-1]\n",
    "    return dct\n",
    "    print(dct)\n",
    "    \n",
    "    \n",
    "phonebook('Bob', '01932342392', 'Alice', '01546734123', 'Britney', '01303544535', 'Aeron', '01723454642', 'Smith', '01923457890', 'Tarek', '09663922', 'Carol', '01823456785')\n",
    "         "
   ]
  },
  {
   "cell_type": "markdown",
   "id": "b9f4c75d",
   "metadata": {
    "id": "b9f4c75d"
   },
   "source": [
    "# 𝗤𝘂𝗲𝘀𝘁𝗶𝗼𝗻 5:<br>\n",
    "Write a program that will take Student names and their marks in different \n",
    "courses as input. Your task is to calculate the GPA of the students from \n",
    "course marks and create a dictionary that will contain the student names \n",
    "given as input as Key and their GPA as the corresponding value. At the end \n",
    "of the program print the dictionary that you created. For simplicity you \n",
    "can consider all the courses are 3.0 credit hours long. The program will \n",
    "continue to take inputs unless “STOP” is given as input.<br>\n",
    "Grading policy is as follows:<br>\n",
    "Marks >=90,  Grade: 4.0<br>\n",
    "90> Marks>=85,  Grade point:  3.7<br>\n",
    "85>Marks>=80,  Grade point:  3.3<br>\n",
    "80>Marks>=75,  Grade point:  3.0<br>\n",
    "75>Marks>=70,  Grade point:  2.7<br>\n",
    "70>Marks>=65,  Grade point:  2.3<br>\n",
    "65>Marks>=60,  Grade point:  2.0<br>\n",
    "60>Marks>=57,  Grade point:  1.7<br>\n",
    "57>Marks>=55,  Grade point:  1.3<br>\n",
    "55>Marks>=52,  Grade point:  1.0<br>\n",
    "52>Marks>=50,  Grade point:  0.7<br>\n",
    "Marks<50,  Grade point:  0.0<br>\n",
    "\n",
    "And the formula to calculate GPA is:<br>\n",
    "        GPA = sum(Each course grade point * credit of each course) / (Total \n",
    "credits attended)<br>\n",
    "\n",
    "**Sample Input:**<br>\n",
    "Adam 83 95 67 72      [Explanation: gpa = \n",
    "(3.3*3.0+4.0*3.0+2.3*3.0+2.7*3.0)/12.0 = 3.075 ≈ 3.08]<br>\n",
    "John 40 55 81 76<br>\n",
    "Alice 65 96 92<br>\n",
    "STOP<br>\n",
    "\n",
    "**Sample Output:**<br>\n",
    "{'Adam': 3.08, 'John': 1.9, 'Alice': 3.43}<br>"
   ]
  },
  {
   "cell_type": "code",
   "execution_count": null,
   "id": "70ac8bdd",
   "metadata": {
    "id": "70ac8bdd"
   },
   "outputs": [],
   "source": []
  },
  {
   "cell_type": "markdown",
   "id": "550f8c1b",
   "metadata": {
    "id": "550f8c1b"
   },
   "source": [
    "# 𝗤𝘂𝗲𝘀𝘁𝗶𝗼𝗻 6:<br>\n",
    "As a software engineer, you are hired to arrange football players based on \n",
    "their country and position. You have given all the player’s information in \n",
    "a tuple called my_tuple. The players are from 3 countries which are Brazil, \n",
    "Argentina and Germany. They are 2 positions which are “Forward” and \n",
    "“Midfield”<br>\n",
    "\n",
    "You are given the following nested tuple where each element in the my_tuple \n",
    "is a tuple consisting of a name and a 4 digit ID.<br>\n",
    "\n",
    "my_tuple = ((\"Firmino\", 1101),(\"Gabriel\", 1201),(\"Casemiro\", 1302),\\\n",
    "(\"Fred\", 1402),(\"Messi\", 1111),(\"Aguero\", 1211),(\"Klose\", 1121), (\"Werner\", 1221), \n",
    "(\"Toni\", 1322))<br>\n",
    "\n",
    "Write a python program that will convert this tuple into the following \n",
    "dictionary using the process described below:\\\n",
    "Your code should work for all \n",
    "types of similar tuple if the sample input is changed.<br>\n",
    "\n",
    "**Output dictionary (You just have to print the resultant dictionary. No need \n",
    "to follow the pattern below):**<br>\n",
    "{<br>\n",
    "'Forward':<br>\n",
    "$\\;\\;${<br>\n",
    "$\\;\\;\\;$'Brazil': ('Firmino', 'Gabriel'),<br>\n",
    "$\\;\\;\\;$'Argentina': ('Messi', 'Aguero'),<br>\n",
    "$\\;\\;\\;$'Germany': ('Klose', 'Werner')<br>\n",
    "$\\;\\;$}<br>\n",
    "'Midfielder':<br>\n",
    "$\\;\\;${<br>\n",
    "$\\;\\;\\;$'Brazil': ('Casemiro', 'Fred')<br>\n",
    "$\\;\\;\\;$'Germany': 'Toni'<br>\n",
    "$\\;\\;$}<br>\n",
    "}<br>\n",
    "**CONTINUATION:**<br>\n",
    "Here you need to convert the given tuple into the output using the 4 digit <br>\n",
    "ID. The rules are given below:<br>\n",
    "1==> Last digit of the ID represents the position. Here<br>\n",
    "$\\;\\;$1a--> 1 means Forward<br>\n",
    "$\\;\\;$1b--> 2 means Midfield<br>\n",
    "2==> Third digit of the ID represents the country. Here<br>\n",
    "$\\;\\;$2a--> 0 means  Brazil<br>\n",
    "$\\;\\;$2b--> 1 means Argentina<br>\n",
    "$\\;\\;$2c--> 2 means Germany<br>\n",
    "3==> If you have multiple players in a category use tuple to store the \n",
    "multiple names as the value of the nested dictionary<br>\n",
    "4==> If any country has no player of a particular position, that country \n",
    "name should not appear as a key in the nested dictionary of that particular \n",
    "position. For example, Argentina has no midfielder. So Argentina did not \n",
    "appear under the “Midfield” position.<br>\n",
    "5==> If your output dictionary’s key value pair sequence is not the same as \n",
    "the shown output you should not worry about that. However, the key value \n",
    "pair should be exactly the same<br>"
   ]
  },
  {
   "cell_type": "code",
   "execution_count": 51,
   "id": "9a97e123",
   "metadata": {
    "id": "9a97e123"
   },
   "outputs": [
    {
     "name": "stdout",
     "output_type": "stream",
     "text": [
      "{'Forward': {'Brazil': ('Firmino', 'Gabriel'), 'Argentina': ('Messi', 'Aguero'), 'Germany': ('Klose', 'Werner')}, 'Midfielder': {'Brazil': ('Casemiro', 'Fred'), 'Germany': ('Toni',)}}\n"
     ]
    }
   ],
   "source": [
    "def mtuple(*args):\n",
    "    dct = {}\n",
    "    for i in args:\n",
    "        a = str(i[1])\n",
    "        b = a[-1]\n",
    "        if b == '1': \n",
    "            place =\"Forward\"\n",
    "        elif b == '2':\n",
    "            place =\"Midfielder\"\n",
    "        c = a[-2]\n",
    "        if c == '0':\n",
    "            cou = \"Brazil\"\n",
    "        elif c == '1':\n",
    "            cou = \"Argentina\"\n",
    "        elif c == '2':\n",
    "            cou = \"Germany\"\n",
    "\n",
    "            \n",
    "        if place not in dct.keys():\n",
    "            dct[place] = {cou : [i[0]]}\n",
    "        else:\n",
    "            if cou not in dct[place].keys():\n",
    "                dct[place][cou] = [i[0]]\n",
    "                \n",
    "            else:\n",
    "                dct[place][cou].append(i[0])\n",
    "      \n",
    "    for key, val in dct.items():\n",
    "        for k,v in val.items():\n",
    "            dct[key][k] = tuple(v)\n",
    "                \n",
    "    print(dct)\n",
    "    \n",
    "mtuple((\"Firmino\", 1101),(\"Gabriel\", 1201),(\"Casemiro\", 1302), (\"Fred\", 1402),(\"Messi\", 1111),(\"Aguero\", 1211),(\"Klose\", 1121), (\"Werner\", 1221), (\"Toni\", 1322))"
   ]
  },
  {
   "cell_type": "markdown",
   "id": "0551bc14",
   "metadata": {
    "id": "0551bc14"
   },
   "source": [
    "# 𝗤𝘂𝗲𝘀𝘁𝗶𝗼𝗻 7: <br>\n",
    "Suppose you are given a list of contacts as input in single line. Your task\n",
    "is to create a “Phonebook” out of those contacts based on their telecom\n",
    "operator. The phonebook is nothing but a nested dictionary which is made of\n",
    "1 rule:<br>\n",
    "\n",
    "1.You have to save each contact based on their telecom operator. If there\n",
    "is no contact of a specific telecom operator, that operator should not be\n",
    "shown in the phone book. If a contact number,<br>\n",
    "Starts with ‘017’ or ‘013’ then the telecom operator is Grameenphone<br>\n",
    "Starts with ‘018’ then the telecom operator is Robi<br>\n",
    "Starts with ‘016’ then the telecom operator is Airtel<br>\n",
    "Starts with anything else then the telecom operator is Others<br>\n",
    "While printing the phonebook as output the contacts under each telecom\n",
    "operator should be shown in alphabetically sorted order based on the\n",
    "contact names. See the sample output for clarification.<br>\n",
    "\n",
    "**Sample Input:**<br>\n",
    "Bob 01632342392 Alice 01346734123 Britney 01803544535 Aeron 01723454642\n",
    "Smith 01923457890 Tarek 01866392233<br>\n",
    "\n",
    "**Sample Output:(No need to follow this output format. Just print the\n",
    "resultant sorted dictionary. )**<br>\n",
    "{<br>\n",
    "Airtel:<br>\n",
    "$\\;\\;${<br>\n",
    "Bob:01632342392<br>\n",
    "$\\;\\;$}<br>\n",
    "Grameenphone:<br>\n",
    "$\\;\\;${<br>\n",
    "Aeron:01723454642<br>\n",
    "Alice:01346734123<br>\n",
    "$\\;\\;$}<br>\n",
    "Robi:<br>\n",
    "$\\;\\;${<br>\n",
    "Britney:01803544535<br>\n",
    "Tarek:01866392233<br>\n",
    "$\\;\\;$}<br>\n",
    "Others:<br>\n",
    "$\\;\\;${<br>\n",
    "Smith:01923457890<br>\n",
    "$\\;\\;$}<br>\n",
    "}<br>"
   ]
  },
  {
   "cell_type": "code",
   "execution_count": 75,
   "id": "653d2c7d-73b3-473b-bd4d-e5abde5c3c7d",
   "metadata": {
    "id": "653d2c7d-73b3-473b-bd4d-e5abde5c3c7d"
   },
   "outputs": [
    {
     "name": "stdout",
     "output_type": "stream",
     "text": [
      "{'Airtel': {'Bob': '01632342392'}, 'Grammenphone': {'Alice': '01346734123', 'Aeron': '01723454642'}, 'Robi': {'Britney': '01803544535', 'Tarek': '01866392233'}, 'Others': {'Smith': '01923457890'}}\n"
     ]
    }
   ],
   "source": [
    "#Todo\n",
    "def phone(*contacts):\n",
    "    lst = []\n",
    "    dct = {}\n",
    "    for i in range(len(contacts)//2):\n",
    "        lst.append([contacts[0+2*i], contacts[1+2*i]])\n",
    "    for i in lst:\n",
    "        if '017' in i[-1] or '013' in i[-1]:\n",
    "            a = \"Grammenphone\"\n",
    "        elif '018' in i[-1]:\n",
    "            a = \"Robi\"\n",
    "        elif '016' in i[-1]:\n",
    "            a = \"Airtel\"\n",
    "        else:\n",
    "            a = \"Others\"\n",
    "        \n",
    "        if a not in dct.keys():\n",
    "            dct[a] = {i[0] : i[-1]}\n",
    "        else:\n",
    "            if i[0] not in dct[a].keys():\n",
    "                dct[a][i[0]] = i[-1]\n",
    "            \n",
    "\n",
    "    print(dct)  \n",
    "    \n",
    "phone('Bob','01632342392', 'Alice', '01346734123', 'Britney', '01803544535', 'Aeron', '01723454642', 'Smith', '01923457890', 'Tarek', '01866392233')"
   ]
  }
 ],
 "metadata": {
  "colab": {
   "name": "CSE111-Quiz1-Fall-2021.ipynb",
   "provenance": []
  },
  "kernelspec": {
   "display_name": "Python 3",
   "language": "python",
   "name": "python3"
  },
  "language_info": {
   "codemirror_mode": {
    "name": "ipython",
    "version": 3
   },
   "file_extension": ".py",
   "mimetype": "text/x-python",
   "name": "python",
   "nbconvert_exporter": "python",
   "pygments_lexer": "ipython3",
   "version": "3.8.8"
  },
  "toc-autonumbering": true,
  "toc-showmarkdowntxt": true
 },
 "nbformat": 4,
 "nbformat_minor": 5
}
