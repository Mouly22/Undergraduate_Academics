{
 "cells": [
  {
   "cell_type": "code",
   "execution_count": 6,
   "id": "138b63ae",
   "metadata": {},
   "outputs": [
    {
     "name": "stdout",
     "output_type": "stream",
     "text": [
      "Put: 8\n",
      "1\n",
      "2\n",
      "4\n",
      "5\n",
      "7\n",
      "8\n",
      "10\n",
      "11\n",
      "48\n"
     ]
    }
   ],
   "source": [
    "n=int(input(\"Put: \"))\n",
    "sum=0\n",
    "count = 1\n",
    "countsum = 1\n",
    "while True:\n",
    "    if countsum%3!=0:\n",
    "        sum+= countsum\n",
    "        count += 1\n",
    "        print(countsum)\n",
    "    countsum+= 1\n",
    "    if count == (n+1):\n",
    "        break\n",
    "    \n",
    "print(sum)        "
   ]
  },
  {
   "cell_type": "code",
   "execution_count": null,
   "id": "d04bfcb8",
   "metadata": {},
   "outputs": [],
   "source": []
  }
 ],
 "metadata": {
  "kernelspec": {
   "display_name": "Python 3",
   "language": "python",
   "name": "python3"
  },
  "language_info": {
   "codemirror_mode": {
    "name": "ipython",
    "version": 3
   },
   "file_extension": ".py",
   "mimetype": "text/x-python",
   "name": "python",
   "nbconvert_exporter": "python",
   "pygments_lexer": "ipython3",
   "version": "3.8.8"
  }
 },
 "nbformat": 4,
 "nbformat_minor": 5
}
