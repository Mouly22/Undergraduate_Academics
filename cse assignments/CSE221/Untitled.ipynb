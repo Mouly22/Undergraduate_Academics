{
 "cells": [
  {
   "cell_type": "code",
   "execution_count": 13,
   "id": "8cdc73c8",
   "metadata": {},
   "outputs": [],
   "source": [
    "inp62 = open('/Users/mouly/Downloads/input3_1.txt', 'r')\n",
    "out62 = open('/Users/mouly/Downloads/output3_1.txt', 'w')\n",
    "l1 = inp62.readline()\n",
    "l2 = inp62.readline().split()\n",
    "vals = []\n",
    "for elm in l2:\n",
    "    vals.append(elm)\n",
    "    \n",
    "\n",
    "def merge(a, b):\n",
    " # Here a and b are two sorted list\n",
    " # merge function will return a sorted list after merging a and b\n",
    "#     lst1 = a\n",
    "#     lst2 = b\n",
    "    pointer1 = 0\n",
    "    pointer2 = 0\n",
    "    n_lst = []\n",
    "    checker1 = True\n",
    "    checker2 = True\n",
    "    while True:\n",
    "        if lst1[pointer1] > lst2[pointer2]:\n",
    "            n_lst.append(lst2[pointer2])\n",
    "            pointer2 += 1 \n",
    "        else:\n",
    "            n_lst.append(lst1[pointer1])\n",
    "            pointer1 += 1\n",
    "\n",
    "\n",
    "        if pointer1 == len(lst1):\n",
    "            checker1 = False\n",
    "            break\n",
    "        if pointer2 == len(lst2):\n",
    "            checker2 = False\n",
    "            break\n",
    "\n",
    "\n",
    "    if checker1:\n",
    "        n_lst += lst1[pointer1::]\n",
    "    elif checker2:\n",
    "        n_lst += lst2[pointer2::]\n",
    "        \n",
    "    return n_lst\n",
    "\n",
    "    def mergeSort(arr):\n",
    "        if len(arr) <= 1:\n",
    "            return arr\n",
    "        else:\n",
    "            mid = len(arr)//2\n",
    "            a1 = mergeSort(arr[:mid]) # the parameter\n",
    "            a2 = mergeSort(arr[mid::]) # the parameter\n",
    "            return merge(a1, a2) #the merge function \n",
    "\n",
    "\n",
    "    store = mergeSort(arr)\n",
    "\n",
    "    for elmes in store:\n",
    "        out62.write(f'{str(elmes)} ')\n",
    "out62.close()"
   ]
  },
  {
   "cell_type": "code",
   "execution_count": null,
   "id": "0e79cf05",
   "metadata": {},
   "outputs": [],
   "source": []
  },
  {
   "cell_type": "code",
   "execution_count": null,
   "id": "e6f8573e",
   "metadata": {},
   "outputs": [],
   "source": []
  },
  {
   "cell_type": "code",
   "execution_count": null,
   "id": "57c136a3",
   "metadata": {},
   "outputs": [],
   "source": []
  },
  {
   "cell_type": "code",
   "execution_count": null,
   "id": "08adf251",
   "metadata": {},
   "outputs": [],
   "source": []
  },
  {
   "cell_type": "code",
   "execution_count": null,
   "id": "5a6e349b",
   "metadata": {},
   "outputs": [],
   "source": []
  },
  {
   "cell_type": "code",
   "execution_count": null,
   "id": "70f109db",
   "metadata": {},
   "outputs": [],
   "source": []
  }
 ],
 "metadata": {
  "kernelspec": {
   "display_name": "Python 3",
   "language": "python",
   "name": "python3"
  },
  "language_info": {
   "codemirror_mode": {
    "name": "ipython",
    "version": 3
   },
   "file_extension": ".py",
   "mimetype": "text/x-python",
   "name": "python",
   "nbconvert_exporter": "python",
   "pygments_lexer": "ipython3",
   "version": "3.8.8"
  }
 },
 "nbformat": 4,
 "nbformat_minor": 5
}
