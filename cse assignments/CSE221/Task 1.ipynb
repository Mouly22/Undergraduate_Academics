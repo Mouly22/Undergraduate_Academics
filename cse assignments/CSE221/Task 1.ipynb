{
 "cells": [
  {
   "cell_type": "code",
   "execution_count": null,
   "id": "cf7e4b3f",
   "metadata": {},
   "outputs": [],
   "source": []
  },
  {
   "cell_type": "code",
   "execution_count": null,
   "id": "4758abfc",
   "metadata": {},
   "outputs": [],
   "source": []
  },
  {
   "cell_type": "code",
   "execution_count": null,
   "id": "6b6787f9",
   "metadata": {},
   "outputs": [],
   "source": []
  },
  {
   "cell_type": "code",
   "execution_count": null,
   "id": "230d0b22",
   "metadata": {},
   "outputs": [],
   "source": []
  },
  {
   "cell_type": "code",
   "execution_count": null,
   "id": "8b3ea793",
   "metadata": {},
   "outputs": [],
   "source": []
  },
  {
   "cell_type": "code",
   "execution_count": null,
   "id": "1229a605",
   "metadata": {},
   "outputs": [],
   "source": []
  },
  {
   "cell_type": "code",
   "execution_count": null,
   "id": "20580c3b",
   "metadata": {},
   "outputs": [],
   "source": []
  },
  {
   "cell_type": "code",
   "execution_count": null,
   "id": "77b019b2",
   "metadata": {},
   "outputs": [],
   "source": []
  },
  {
   "cell_type": "code",
   "execution_count": 48,
   "id": "d291c259",
   "metadata": {},
   "outputs": [],
   "source": [
    "from queue import PriorityQueue\n",
    "\n",
    "def find_shortest_paths(graph, start):\n",
    "    pq = PriorityQueue()\n",
    "    parents = {}\n",
    "    visited = {}\n",
    "    distances = {}\n",
    "\n",
    "    for node in graph.keys():\n",
    "        parents[node] = None\n",
    "        visited[node] = False\n",
    "        distances[node] = float('inf')\n",
    "\n",
    "    distances[start] = 0\n",
    "    pq.put((0, start))\n",
    "    val = ''\n",
    "    while not pq.empty():\n",
    "        weight, node = pq.get()\n",
    "        if visited[node]:\n",
    "            continue\n",
    "        visited[node] = True\n",
    "        if node in graph:\n",
    "            for neighbor, edge_weight in graph[node]:\n",
    "                new_distance = weight + edge_weight\n",
    "                if distances[neighbor] > new_distance:\n",
    "                    distances[neighbor] = new_distance\n",
    "                    pq.put((new_distance, neighbor))\n",
    "                    parents[neighbor] = node\n",
    "    \n",
    "                    \n",
    "    for m, n in distances.items():\n",
    "        if n == float('inf'):\n",
    "            n = -1\n",
    "        val += str(n) + ' '\n",
    "    out61.write(val)\n",
    "\n",
    "\n",
    "inp61 = open('/Users/mouly/Downloads/input1_2.txt', 'r')\n",
    "out61 = open('/Users/mouly/Downloads/output1_2.txt', 'w')\n",
    "line1 = inp61.readline().split()\n",
    "graph = {}\n",
    "ulst = []\n",
    "for val in range(int(line1[1])):\n",
    "    lines = inp61.readline().split()\n",
    "    if int(lines[0]) not in graph.keys():\n",
    "        graph[int(lines[0])] = [(int(lines[1]), int(lines[2]))]\n",
    "    else:\n",
    "        graph[int(lines[0])].append((int(lines[1]), int(lines[2])))\n",
    "    if int(lines[0]) not in ulst:\n",
    "        ulst.append(int(lines[0]))\n",
    "    if int(lines[1]) not in ulst:\n",
    "        ulst.append(int(lines[1]))\n",
    "g = {}\n",
    "for elm in ulst:\n",
    "    if elm in graph.keys():\n",
    "        g[elm] = graph[elm]   \n",
    "    else:\n",
    "        g[elm] = []  \n",
    "graph = g.copy()     \n",
    "\n",
    "\n",
    "start = int(inp61.readline())\n",
    "\n",
    "distances = find_shortest_paths(graph, start)\n",
    "out61.close()"
   ]
  },
  {
   "cell_type": "code",
   "execution_count": null,
   "id": "76482596",
   "metadata": {},
   "outputs": [],
   "source": []
  },
  {
   "cell_type": "code",
   "execution_count": null,
   "id": "708ab100",
   "metadata": {},
   "outputs": [],
   "source": []
  },
  {
   "cell_type": "code",
   "execution_count": null,
   "id": "72e90c7a",
   "metadata": {},
   "outputs": [],
   "source": []
  },
  {
   "cell_type": "code",
   "execution_count": null,
   "id": "d61b1462",
   "metadata": {},
   "outputs": [],
   "source": []
  }
 ],
 "metadata": {
  "kernelspec": {
   "display_name": "Python 3",
   "language": "python",
   "name": "python3"
  },
  "language_info": {
   "codemirror_mode": {
    "name": "ipython",
    "version": 3
   },
   "file_extension": ".py",
   "mimetype": "text/x-python",
   "name": "python",
   "nbconvert_exporter": "python",
   "pygments_lexer": "ipython3",
   "version": "3.8.8"
  }
 },
 "nbformat": 4,
 "nbformat_minor": 5
}
