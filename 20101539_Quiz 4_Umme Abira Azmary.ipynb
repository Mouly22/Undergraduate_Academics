{
 "cells": [
  {
   "cell_type": "code",
   "execution_count": 5,
   "id": "458a4f5e",
   "metadata": {},
   "outputs": [
    {
     "name": "stdout",
     "output_type": "stream",
     "text": [
      "dalek\n"
     ]
    },
    {
     "data": {
      "text/plain": [
       "'kdaleay'"
      ]
     },
     "execution_count": 5,
     "metadata": {},
     "output_type": "execute_result"
    }
   ],
   "source": [
    "def func(s):\n",
    "    if len(s) == 1:\n",
    "        return s\n",
    "    elif s[-1] in ['a', 'e', 'i', 'o', 'u']:\n",
    "        return \"yay\" + s\n",
    "    else:\n",
    "        new_s = \"\"\n",
    "        for i in range(0, len(s) - 1):\n",
    "            new_s += s[i]\n",
    "        return s[-1] + new_s + \"ay\"\n",
    "\n",
    "func(input())"
   ]
  },
  {
   "cell_type": "code",
   "execution_count": null,
   "id": "450792f9",
   "metadata": {},
   "outputs": [],
   "source": []
  }
 ],
 "metadata": {
  "kernelspec": {
   "display_name": "Python 3",
   "language": "python",
   "name": "python3"
  },
  "language_info": {
   "codemirror_mode": {
    "name": "ipython",
    "version": 3
   },
   "file_extension": ".py",
   "mimetype": "text/x-python",
   "name": "python",
   "nbconvert_exporter": "python",
   "pygments_lexer": "ipython3",
   "version": "3.8.8"
  }
 },
 "nbformat": 4,
 "nbformat_minor": 5
}
